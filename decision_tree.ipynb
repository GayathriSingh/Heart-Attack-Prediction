{
 "cells": [
  {
   "cell_type": "code",
   "execution_count": 6,
   "id": "8612feb2",
   "metadata": {},
   "outputs": [],
   "source": [
    "import pandas as pd\n",
    "from sklearn.model_selection import train_test_split\n",
    "from sklearn.preprocessing import StandardScaler\n",
    "from sklearn.tree import DecisionTreeClassifier\n",
    "from sklearn.metrics import classification_report, confusion_matrix\n"
   ]
  },
  {
   "cell_type": "code",
   "execution_count": 7,
   "id": "4b289b7e",
   "metadata": {},
   "outputs": [],
   "source": [
    "heart_data=pd.read_csv('heart_attack_prediction_dataset.csv')"
   ]
  },
  {
   "cell_type": "code",
   "execution_count": 8,
   "id": "845d9266",
   "metadata": {},
   "outputs": [],
   "source": [
    "heart_data.drop(['Income','Country','Continent','Hemisphere'],axis=1,inplace=True)"
   ]
  },
  {
   "cell_type": "code",
   "execution_count": 9,
   "id": "b3f8af57",
   "metadata": {},
   "outputs": [],
   "source": [
    "heart_data.drop(['Patient ID'],axis=1,inplace=True)"
   ]
  },
  {
   "cell_type": "code",
   "execution_count": 10,
   "id": "9a810e98",
   "metadata": {},
   "outputs": [
    {
     "name": "stdout",
     "output_type": "stream",
     "text": [
      "<class 'pandas.core.frame.DataFrame'>\n",
      "RangeIndex: 8763 entries, 0 to 8762\n",
      "Data columns (total 21 columns):\n",
      " #   Column                           Non-Null Count  Dtype  \n",
      "---  ------                           --------------  -----  \n",
      " 0   Age                              8763 non-null   int64  \n",
      " 1   Sex                              8763 non-null   object \n",
      " 2   Cholesterol                      8763 non-null   int64  \n",
      " 3   Blood Pressure                   8763 non-null   object \n",
      " 4   Heart Rate                       8763 non-null   int64  \n",
      " 5   Diabetes                         8763 non-null   int64  \n",
      " 6   Family History                   8763 non-null   int64  \n",
      " 7   Smoking                          8763 non-null   int64  \n",
      " 8   Obesity                          8763 non-null   int64  \n",
      " 9   Alcohol Consumption              8763 non-null   int64  \n",
      " 10  Exercise Hours Per Week          8763 non-null   float64\n",
      " 11  Diet                             8763 non-null   object \n",
      " 12  Previous Heart Problems          8763 non-null   int64  \n",
      " 13  Medication Use                   8763 non-null   int64  \n",
      " 14  Stress Level                     8763 non-null   int64  \n",
      " 15  Sedentary Hours Per Day          8763 non-null   float64\n",
      " 16  BMI                              8763 non-null   float64\n",
      " 17  Triglycerides                    8763 non-null   int64  \n",
      " 18  Physical Activity Days Per Week  8763 non-null   int64  \n",
      " 19  Sleep Hours Per Day              8763 non-null   int64  \n",
      " 20  Heart Attack Risk                8763 non-null   int64  \n",
      "dtypes: float64(3), int64(15), object(3)\n",
      "memory usage: 1.4+ MB\n"
     ]
    }
   ],
   "source": [
    "heart_data.info()"
   ]
  },
  {
   "cell_type": "code",
   "execution_count": 11,
   "id": "30958c3b",
   "metadata": {},
   "outputs": [],
   "source": [
    "gen=pd.get_dummies(heart_data['Sex'],drop_first=True)\n"
   ]
  },
  {
   "cell_type": "code",
   "execution_count": 12,
   "id": "2b90d5b5",
   "metadata": {},
   "outputs": [],
   "source": [
    "diet=pd.get_dummies(heart_data['Diet'],drop_first=True)"
   ]
  },
  {
   "cell_type": "code",
   "execution_count": 13,
   "id": "e96047b7",
   "metadata": {},
   "outputs": [],
   "source": [
    "blood_pressure_split = heart_data['Blood Pressure'].str.split('/', expand=True)\n",
    "heart_data['Systolic'] = blood_pressure_split[0].astype(int)\n",
    "heart_data['Diastolic'] = blood_pressure_split[1].astype(int)"
   ]
  },
  {
   "cell_type": "code",
   "execution_count": 15,
   "id": "c2250049",
   "metadata": {},
   "outputs": [],
   "source": [
    "heart_data=pd.concat([heart_data,gen,diet],axis=1)"
   ]
  },
  {
   "cell_type": "code",
   "execution_count": 16,
   "id": "4ef7ef1c",
   "metadata": {},
   "outputs": [],
   "source": [
    "heart_data.drop(['Sex','Diet'],axis=1,inplace=True)"
   ]
  },
  {
   "cell_type": "code",
   "execution_count": 17,
   "id": "5f978d3b",
   "metadata": {},
   "outputs": [
    {
     "name": "stdout",
     "output_type": "stream",
     "text": [
      "<class 'pandas.core.frame.DataFrame'>\n",
      "RangeIndex: 8763 entries, 0 to 8762\n",
      "Data columns (total 24 columns):\n",
      " #   Column                           Non-Null Count  Dtype  \n",
      "---  ------                           --------------  -----  \n",
      " 0   Age                              8763 non-null   int64  \n",
      " 1   Cholesterol                      8763 non-null   int64  \n",
      " 2   Blood Pressure                   8763 non-null   object \n",
      " 3   Heart Rate                       8763 non-null   int64  \n",
      " 4   Diabetes                         8763 non-null   int64  \n",
      " 5   Family History                   8763 non-null   int64  \n",
      " 6   Smoking                          8763 non-null   int64  \n",
      " 7   Obesity                          8763 non-null   int64  \n",
      " 8   Alcohol Consumption              8763 non-null   int64  \n",
      " 9   Exercise Hours Per Week          8763 non-null   float64\n",
      " 10  Previous Heart Problems          8763 non-null   int64  \n",
      " 11  Medication Use                   8763 non-null   int64  \n",
      " 12  Stress Level                     8763 non-null   int64  \n",
      " 13  Sedentary Hours Per Day          8763 non-null   float64\n",
      " 14  BMI                              8763 non-null   float64\n",
      " 15  Triglycerides                    8763 non-null   int64  \n",
      " 16  Physical Activity Days Per Week  8763 non-null   int64  \n",
      " 17  Sleep Hours Per Day              8763 non-null   int64  \n",
      " 18  Heart Attack Risk                8763 non-null   int64  \n",
      " 19  Systolic                         8763 non-null   int32  \n",
      " 20  Diastolic                        8763 non-null   int32  \n",
      " 21  Male                             8763 non-null   uint8  \n",
      " 22  Healthy                          8763 non-null   uint8  \n",
      " 23  Unhealthy                        8763 non-null   uint8  \n",
      "dtypes: float64(3), int32(2), int64(15), object(1), uint8(3)\n",
      "memory usage: 1.4+ MB\n"
     ]
    }
   ],
   "source": [
    "heart_data.info()"
   ]
  },
  {
   "cell_type": "code",
   "execution_count": 18,
   "id": "930313c0",
   "metadata": {},
   "outputs": [],
   "source": [
    "heart_data.drop(['Blood Pressure'],axis=1,inplace=True)"
   ]
  },
  {
   "cell_type": "code",
   "execution_count": 19,
   "id": "1b45b6cb",
   "metadata": {},
   "outputs": [
    {
     "name": "stdout",
     "output_type": "stream",
     "text": [
      "<class 'pandas.core.frame.DataFrame'>\n",
      "RangeIndex: 8763 entries, 0 to 8762\n",
      "Data columns (total 23 columns):\n",
      " #   Column                           Non-Null Count  Dtype  \n",
      "---  ------                           --------------  -----  \n",
      " 0   Age                              8763 non-null   int64  \n",
      " 1   Cholesterol                      8763 non-null   int64  \n",
      " 2   Heart Rate                       8763 non-null   int64  \n",
      " 3   Diabetes                         8763 non-null   int64  \n",
      " 4   Family History                   8763 non-null   int64  \n",
      " 5   Smoking                          8763 non-null   int64  \n",
      " 6   Obesity                          8763 non-null   int64  \n",
      " 7   Alcohol Consumption              8763 non-null   int64  \n",
      " 8   Exercise Hours Per Week          8763 non-null   float64\n",
      " 9   Previous Heart Problems          8763 non-null   int64  \n",
      " 10  Medication Use                   8763 non-null   int64  \n",
      " 11  Stress Level                     8763 non-null   int64  \n",
      " 12  Sedentary Hours Per Day          8763 non-null   float64\n",
      " 13  BMI                              8763 non-null   float64\n",
      " 14  Triglycerides                    8763 non-null   int64  \n",
      " 15  Physical Activity Days Per Week  8763 non-null   int64  \n",
      " 16  Sleep Hours Per Day              8763 non-null   int64  \n",
      " 17  Heart Attack Risk                8763 non-null   int64  \n",
      " 18  Systolic                         8763 non-null   int32  \n",
      " 19  Diastolic                        8763 non-null   int32  \n",
      " 20  Male                             8763 non-null   uint8  \n",
      " 21  Healthy                          8763 non-null   uint8  \n",
      " 22  Unhealthy                        8763 non-null   uint8  \n",
      "dtypes: float64(3), int32(2), int64(15), uint8(3)\n",
      "memory usage: 1.3 MB\n"
     ]
    }
   ],
   "source": [
    "heart_data.info()"
   ]
  },
  {
   "cell_type": "code",
   "execution_count": 32,
   "id": "de0b36d0",
   "metadata": {},
   "outputs": [],
   "source": [
    "X = heart_data.drop(['Heart Attack Risk'], axis=1)\n",
    "y = heart_data['Heart Attack Risk']"
   ]
  },
  {
   "cell_type": "code",
   "execution_count": 33,
   "id": "f39839c2",
   "metadata": {},
   "outputs": [],
   "source": [
    "X_train, X_test, y_train, y_test = train_test_split(X, y, test_size=0.2, random_state=2)"
   ]
  },
  {
   "cell_type": "code",
   "execution_count": 34,
   "id": "ea75f6ff",
   "metadata": {},
   "outputs": [],
   "source": [
    "scaler = StandardScaler()"
   ]
  },
  {
   "cell_type": "code",
   "execution_count": 35,
   "id": "f7aee00e",
   "metadata": {},
   "outputs": [],
   "source": [
    "X_train = scaler.fit_transform(X_train)\n",
    "X_test = scaler.transform(X_test)"
   ]
  },
  {
   "cell_type": "code",
   "execution_count": 36,
   "id": "3c5841d5",
   "metadata": {},
   "outputs": [
    {
     "data": {
      "text/plain": [
       "DecisionTreeClassifier(random_state=2)"
      ]
     },
     "execution_count": 36,
     "metadata": {},
     "output_type": "execute_result"
    }
   ],
   "source": [
    "dt_model = DecisionTreeClassifier(random_state=2)\n",
    "dt_model.fit(X_train, y_train)\n"
   ]
  },
  {
   "cell_type": "code",
   "execution_count": 37,
   "id": "5fe55af2",
   "metadata": {},
   "outputs": [],
   "source": [
    "\n",
    "y_pred = dt_model.predict(X_test)"
   ]
  },
  {
   "cell_type": "code",
   "execution_count": 38,
   "id": "95a98ea1",
   "metadata": {},
   "outputs": [
    {
     "name": "stdout",
     "output_type": "stream",
     "text": [
      "[[703 428]\n",
      " [393 229]]\n",
      "              precision    recall  f1-score   support\n",
      "\n",
      "           0       0.64      0.62      0.63      1131\n",
      "           1       0.35      0.37      0.36       622\n",
      "\n",
      "    accuracy                           0.53      1753\n",
      "   macro avg       0.49      0.49      0.49      1753\n",
      "weighted avg       0.54      0.53      0.53      1753\n",
      "\n"
     ]
    }
   ],
   "source": [
    "print(confusion_matrix(y_test, y_pred))\n",
    "print(classification_report(y_test, y_pred))"
   ]
  },
  {
   "cell_type": "code",
   "execution_count": null,
   "id": "de1d680f",
   "metadata": {},
   "outputs": [],
   "source": []
  },
  {
   "cell_type": "code",
   "execution_count": null,
   "id": "d03108ba",
   "metadata": {},
   "outputs": [],
   "source": []
  },
  {
   "cell_type": "code",
   "execution_count": null,
   "id": "61803476",
   "metadata": {},
   "outputs": [],
   "source": []
  },
  {
   "cell_type": "code",
   "execution_count": null,
   "id": "7483e0ac",
   "metadata": {},
   "outputs": [],
   "source": []
  },
  {
   "cell_type": "code",
   "execution_count": null,
   "id": "87d006f1",
   "metadata": {},
   "outputs": [],
   "source": []
  },
  {
   "cell_type": "code",
   "execution_count": null,
   "id": "c035ac1d",
   "metadata": {},
   "outputs": [],
   "source": []
  },
  {
   "cell_type": "code",
   "execution_count": null,
   "id": "6b2cd618",
   "metadata": {},
   "outputs": [],
   "source": []
  },
  {
   "cell_type": "code",
   "execution_count": null,
   "id": "59173578",
   "metadata": {},
   "outputs": [],
   "source": []
  },
  {
   "cell_type": "code",
   "execution_count": null,
   "id": "f5295ccc",
   "metadata": {},
   "outputs": [],
   "source": []
  },
  {
   "cell_type": "code",
   "execution_count": null,
   "id": "0c404a0d",
   "metadata": {},
   "outputs": [],
   "source": [
    "\n",
    "\n",
    "# Train-test split\n",
    "\n",
    "\n",
    "# Standardize the features (optional for Decision Trees, but good practice)\n",
    "\n",
    "\n",
    "# Initialize and train the Decision Tree model\n",
    "dt_model = DecisionTreeClassifier(random_state=42)\n",
    "dt_model.fit(X_train, y_train)\n",
    "\n",
    "# Make predictions\n",
    "y_pred = dt_model.predict(X_test)\n",
    "\n",
    "# Evaluate the model\n",
    "print(confusion_matrix(y_test, y_pred))\n",
    "print(classification_report(y_test, y_pred))\n"
   ]
  },
  {
   "cell_type": "code",
   "execution_count": null,
   "id": "5440b2f9",
   "metadata": {},
   "outputs": [],
   "source": []
  },
  {
   "cell_type": "code",
   "execution_count": null,
   "id": "362d5991",
   "metadata": {},
   "outputs": [],
   "source": []
  },
  {
   "cell_type": "code",
   "execution_count": null,
   "id": "2dec7585",
   "metadata": {},
   "outputs": [],
   "source": []
  },
  {
   "cell_type": "code",
   "execution_count": null,
   "id": "35617e7c",
   "metadata": {},
   "outputs": [],
   "source": []
  },
  {
   "cell_type": "code",
   "execution_count": null,
   "id": "d19a3697",
   "metadata": {},
   "outputs": [],
   "source": []
  },
  {
   "cell_type": "code",
   "execution_count": null,
   "id": "2ce85c14",
   "metadata": {},
   "outputs": [],
   "source": []
  },
  {
   "cell_type": "code",
   "execution_count": null,
   "id": "b320c41d",
   "metadata": {},
   "outputs": [],
   "source": []
  },
  {
   "cell_type": "code",
   "execution_count": null,
   "id": "ad16058f",
   "metadata": {},
   "outputs": [],
   "source": []
  },
  {
   "cell_type": "code",
   "execution_count": null,
   "id": "b5abd6d1",
   "metadata": {},
   "outputs": [],
   "source": []
  },
  {
   "cell_type": "code",
   "execution_count": null,
   "id": "4dd1705b",
   "metadata": {},
   "outputs": [],
   "source": []
  },
  {
   "cell_type": "code",
   "execution_count": null,
   "id": "d056df9e",
   "metadata": {},
   "outputs": [],
   "source": []
  },
  {
   "cell_type": "code",
   "execution_count": null,
   "id": "523caa54",
   "metadata": {},
   "outputs": [],
   "source": []
  },
  {
   "cell_type": "code",
   "execution_count": null,
   "id": "37c51ebf",
   "metadata": {},
   "outputs": [],
   "source": []
  },
  {
   "cell_type": "code",
   "execution_count": null,
   "id": "d3359fad",
   "metadata": {},
   "outputs": [],
   "source": []
  },
  {
   "cell_type": "code",
   "execution_count": null,
   "id": "255dfc70",
   "metadata": {},
   "outputs": [],
   "source": []
  },
  {
   "cell_type": "code",
   "execution_count": null,
   "id": "f6e5903d",
   "metadata": {},
   "outputs": [],
   "source": []
  },
  {
   "cell_type": "code",
   "execution_count": null,
   "id": "0d254de1",
   "metadata": {},
   "outputs": [],
   "source": []
  },
  {
   "cell_type": "code",
   "execution_count": null,
   "id": "5e7fd204",
   "metadata": {},
   "outputs": [],
   "source": []
  },
  {
   "cell_type": "code",
   "execution_count": null,
   "id": "e8640bef",
   "metadata": {},
   "outputs": [],
   "source": []
  },
  {
   "cell_type": "code",
   "execution_count": null,
   "id": "0b3627c2",
   "metadata": {},
   "outputs": [],
   "source": []
  }
 ],
 "metadata": {
  "kernelspec": {
   "display_name": "Python 3 (ipykernel)",
   "language": "python",
   "name": "python3"
  },
  "language_info": {
   "codemirror_mode": {
    "name": "ipython",
    "version": 3
   },
   "file_extension": ".py",
   "mimetype": "text/x-python",
   "name": "python",
   "nbconvert_exporter": "python",
   "pygments_lexer": "ipython3",
   "version": "3.9.13"
  }
 },
 "nbformat": 4,
 "nbformat_minor": 5
}
